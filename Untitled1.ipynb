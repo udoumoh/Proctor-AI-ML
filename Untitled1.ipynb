{
 "cells": [
  {
   "cell_type": "code",
   "execution_count": 40,
   "id": "ee14aede",
   "metadata": {},
   "outputs": [],
   "source": [
    "import super_gradients\n",
    "\n",
    "yolo_nas = super_gradients.training.models.get(\"yolo_nas_l\", pretrained_weights=\"coco\").cuda()\n",
    "test = yolo_nas.predict(\"test3.jpg\").save(\"\")"
   ]
  },
  {
   "cell_type": "code",
   "execution_count": 44,
   "id": "bf432720",
   "metadata": {},
   "outputs": [
    {
     "ename": "ModuleNotFoundError",
     "evalue": "No module named 'openpose'",
     "output_type": "error",
     "traceback": [
      "\u001b[1;31m---------------------------------------------------------------------------\u001b[0m",
      "\u001b[1;31mModuleNotFoundError\u001b[0m                       Traceback (most recent call last)",
      "Cell \u001b[1;32mIn[44], line 1\u001b[0m\n\u001b[1;32m----> 1\u001b[0m \u001b[38;5;28;01mimport\u001b[39;00m \u001b[38;5;21;01mopenpose\u001b[39;00m \u001b[38;5;28;01mas\u001b[39;00m \u001b[38;5;21;01mop\u001b[39;00m\n",
      "\u001b[1;31mModuleNotFoundError\u001b[0m: No module named 'openpose'"
     ]
    }
   ],
   "source": [
    "import openpose as op"
   ]
  },
  {
   "cell_type": "code",
   "execution_count": 47,
   "id": "9aaedb52",
   "metadata": {},
   "outputs": [],
   "source": [
    "import sys\n",
    "import os\n",
    "dir_path = \"C:/Users/JOHN/Documents/openpose\"\n",
    "sys.path.append(dir_path + '/../../python/openpose/Release')\n",
    "os.environ['PATH']  = os.environ['PATH'] + ';' + dir_path + '/../../x64/Release;' +  dir_path + '/../../bin;'"
   ]
  },
  {
   "cell_type": "code",
   "execution_count": 49,
   "id": "dbff2688",
   "metadata": {},
   "outputs": [],
   "source": [
    "sys.path.append(dir_path + '/../../python/openpose/Release')"
   ]
  },
  {
   "cell_type": "code",
   "execution_count": 51,
   "id": "0fb76821",
   "metadata": {},
   "outputs": [],
   "source": [
    "os.environ['PATH']  = os.environ['PATH'] + ';' + dir_path + '/../../x64/Release;' +  dir_path + '/../../bin;'"
   ]
  },
  {
   "cell_type": "code",
   "execution_count": 52,
   "id": "94144829",
   "metadata": {},
   "outputs": [
    {
     "ename": "ModuleNotFoundError",
     "evalue": "No module named 'pyopenpose'",
     "output_type": "error",
     "traceback": [
      "\u001b[1;31m---------------------------------------------------------------------------\u001b[0m",
      "\u001b[1;31mModuleNotFoundError\u001b[0m                       Traceback (most recent call last)",
      "Cell \u001b[1;32mIn[52], line 1\u001b[0m\n\u001b[1;32m----> 1\u001b[0m \u001b[38;5;28;01mimport\u001b[39;00m \u001b[38;5;21;01mpyopenpose\u001b[39;00m \u001b[38;5;28;01mas\u001b[39;00m \u001b[38;5;21;01mop\u001b[39;00m\n",
      "\u001b[1;31mModuleNotFoundError\u001b[0m: No module named 'pyopenpose'"
     ]
    }
   ],
   "source": [
    "import pyopenpose as op"
   ]
  },
  {
   "cell_type": "code",
   "execution_count": null,
   "id": "cc5ca0af",
   "metadata": {},
   "outputs": [],
   "source": []
  }
 ],
 "metadata": {
  "kernelspec": {
   "display_name": "Python 3 (ipykernel)",
   "language": "python",
   "name": "python3"
  },
  "language_info": {
   "codemirror_mode": {
    "name": "ipython",
    "version": 3
   },
   "file_extension": ".py",
   "mimetype": "text/x-python",
   "name": "python",
   "nbconvert_exporter": "python",
   "pygments_lexer": "ipython3",
   "version": "3.8.0"
  }
 },
 "nbformat": 4,
 "nbformat_minor": 5
}
